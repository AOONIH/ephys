{
 "cells": [
  {
   "cell_type": "markdown",
   "id": "dcc92445",
   "metadata": {},
   "source": [
    "# Import Required Libraries\n",
    "Import the necessary libraries, including pandas and csv."
   ]
  },
  {
   "cell_type": "code",
   "execution_count": 11,
   "id": "68e3d641",
   "metadata": {},
   "outputs": [],
   "source": [
    "# Import Required Libraries\n",
    "import pandas as pd\n",
    "import csv"
   ]
  },
  {
   "cell_type": "markdown",
   "id": "fa1c368d",
   "metadata": {},
   "source": [
    "# Define Channel Order\n",
    "Define the channel numbers for each shank (D, C, B, A) for both front and back, based on the given image."
   ]
  },
  {
   "cell_type": "code",
   "execution_count": 12,
   "id": "cb469fb5",
   "metadata": {},
   "outputs": [],
   "source": [
    "# Define Channel Order\n",
    "# Channel numbers for each shank (D, C, B, A) for both front and back\n",
    "shank_channels = {\n",
    "    \"D_back\": [90, 95, 89, 94, 88, 93, 87, 92, 86, 91, 85, 84, 83, 82, 81, 80],\n",
    "    \"C_back\": [74, 79, 73, 78, 72, 77, 71, 76, 70, 75, 69, 68, 67, 66, 65, 64],\n",
    "    \"B_back\": [58, 63, 57, 62, 56, 61, 55, 60, 54, 59, 53, 52, 51, 50, 49, 48],\n",
    "    \"A_back\": [42, 47, 41, 46, 40, 45, 39, 44, 38, 43, 37, 36, 35, 34, 33, 32],\n",
    "    \"D_front\": [106, 111, 105, 110, 104, 109, 103, 108, 102, 107, 101, 100, 99, 98, 97, 96],\n",
    "    \"C_front\": [122, 127, 121, 126, 120, 125, 119, 124, 118, 123, 117, 116, 115, 114, 113, 112],\n",
    "    \"B_front\": [10, 15, 9, 14, 8, 13, 7, 12, 6, 11, 5, 4, 3, 2, 1, 0],\n",
    "    \"A_front\": [26, 31, 25, 30, 24, 29, 23, 28, 22, 27, 21, 20, 19, 18, 17, 16]\n",
    "}"
   ]
  },
  {
   "cell_type": "markdown",
   "id": "1faf27b6",
   "metadata": {},
   "source": [
    "# Generate Channel List\n",
    "Iterate through the shanks in the specified order (D, C, B, A), first for the front and then for the back. For each shank, traverse the rows and append the channels in row-major order."
   ]
  },
  {
   "cell_type": "code",
   "execution_count": null,
   "id": "87e7436f",
   "metadata": {},
   "outputs": [
    {
     "name": "stdout",
     "output_type": "stream",
     "text": [
      "Ordered Channels (Row-Major Order): [105, 110, 104, 109, 103, 108, 102, 107, 101, 106, 100, 99, 98, 97, 96, 95, 121, 126, 120, 125, 119, 124, 118, 123, 117, 122, 116, 115, 114, 113, 112, 111, 9, 14, 8, 13, 7, 12, 6, 11, 5, 10, 4, 3, 2, 1, 0, -1, 25, 30, 24, 29, 23, 28, 22, 27, 21, 26, 20, 19, 18, 17, 16, 15, 89, 94, 88, 93, 87, 92, 86, 91, 85, 90, 84, 83, 82, 81, 80, 79, 73, 78, 72, 77, 71, 76, 70, 75, 69, 74, 68, 67, 66, 65, 64, 63, 57, 62, 56, 61, 55, 60, 54, 59, 53, 58, 52, 51, 50, 49, 48, 47, 41, 46, 40, 45, 39, 44, 38, 43, 37, 42, 36, 35, 34, 33, 32, 31]\n"
     ]
    }
   ],
   "source": [
    "# Generate Channel List\n",
    "# Update the order of channels to follow row-major order\n",
    "# Define the order of shanks and positions\n",
    "shank_order = [\"D_front\", \"C_front\", \"B_front\", \"A_front\", \"D_back\", \"C_back\", \"B_back\", \"A_back\"]\n",
    "\n",
    "# Initialize an empty list to store the ordered channels\n",
    "ordered_channels = []\n",
    "\n",
    "# Iterate through the shanks in the specified order\n",
    "for shank in shank_order:\n",
    "    # Append the channels for the current shank to the ordered list\n",
    "    ordered_channels.extend(shank_channels[shank])\n",
    "\n",
    "# Subtract 1 from each channel number to convert to zero-based indexing\n",
    "\n",
    "# Display the ordered channel list\n",
    "print(\"Ordered Channels (Row-Major Order):\", ordered_channels)"
   ]
  },
  {
   "cell_type": "markdown",
   "id": "037f505f",
   "metadata": {},
   "source": [
    "# Save to CSV File\n",
    "Use pandas to create a DataFrame with the channel list and save it as a CSV file with one column."
   ]
  },
  {
   "cell_type": "code",
   "execution_count": 14,
   "id": "48452e25",
   "metadata": {},
   "outputs": [
    {
     "name": "stdout",
     "output_type": "stream",
     "text": [
      "Channel list saved to dsided_ordered_channels.csv\n"
     ]
    }
   ],
   "source": [
    "# Save to CSV File\n",
    "# Create a DataFrame from the ordered channel list\n",
    "channel_df = pd.DataFrame(ordered_channels, columns=[\"Channel\"])\n",
    "\n",
    "# Save the DataFrame to a CSV file\n",
    "output_file = \"dsided_ordered_channels.csv\"\n",
    "channel_df.to_csv(output_file, index=False)\n",
    "\n",
    "print(f\"Channel list saved to {output_file}\")"
   ]
  },
  {
   "cell_type": "markdown",
   "id": "d0f8992e",
   "metadata": {},
   "source": [
    "# Generate JSON File\n",
    "Create a JSON file similar to double_sided_probe_map.json using the ordered channel list."
   ]
  },
  {
   "cell_type": "code",
   "execution_count": 15,
   "id": "74b1246e",
   "metadata": {},
   "outputs": [
    {
     "name": "stdout",
     "output_type": "stream",
     "text": [
      "JSON file saved to double_sided_probe_map_generated.json\n"
     ]
    }
   ],
   "source": [
    "# Generate JSON File\n",
    "import json\n",
    "\n",
    "# Define the JSON structure\n",
    "probe_map = {\n",
    "    \"0\": {\n",
    "        \"mapping\": ordered_channels,\n",
    "        \"enabled\": [True] * len(ordered_channels)\n",
    "    }\n",
    "}\n",
    "\n",
    "# Save the JSON structure to a file\n",
    "output_json_file = \"double_sided_probe_map_generated.json\"\n",
    "with open(output_json_file, \"w\") as json_file:\n",
    "    json.dump(probe_map, json_file, indent=2)\n",
    "\n",
    "print(f\"JSON file saved to {output_json_file}\")"
   ]
  }
 ],
 "metadata": {
  "kernelspec": {
   "display_name": "si",
   "language": "python",
   "name": "python3"
  },
  "language_info": {
   "codemirror_mode": {
    "name": "ipython",
    "version": 3
   },
   "file_extension": ".py",
   "mimetype": "text/x-python",
   "name": "python",
   "nbconvert_exporter": "python",
   "pygments_lexer": "ipython3",
   "version": "3.10.0"
  }
 },
 "nbformat": 4,
 "nbformat_minor": 5
}
